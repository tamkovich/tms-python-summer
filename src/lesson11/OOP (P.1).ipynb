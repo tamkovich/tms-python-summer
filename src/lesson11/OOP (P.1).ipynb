{
 "cells": [
  {
   "cell_type": "markdown",
   "metadata": {},
   "source": [
    "# Объектно-ориентированное программирование (ООП) (Часть 1)"
   ]
  },
  {
   "cell_type": "markdown",
   "metadata": {},
   "source": [
    "### Синтаксис\n",
    "\n",
    "<code>class ИмяКласса:\n",
    "   атрибуты_класса\n",
    "   методы_класса\n",
    "</code>"
   ]
  },
  {
   "cell_type": "markdown",
   "metadata": {},
   "source": [
    "###  Задание 11.01\n",
    "\n",
    "Создать пустой класс Dog"
   ]
  },
  {
   "cell_type": "code",
   "execution_count": 7,
   "metadata": {},
   "outputs": [],
   "source": [
    "class Dog:\n",
    "    pass"
   ]
  },
  {
   "cell_type": "markdown",
   "metadata": {},
   "source": [
    "###  Создание объекта"
   ]
  },
  {
   "cell_type": "code",
   "execution_count": 8,
   "metadata": {},
   "outputs": [],
   "source": [
    "# Dog - имя класса\n",
    "dog = Dog() #  dog - Объект(экземпляр) класса Dog"
   ]
  },
  {
   "cell_type": "code",
   "execution_count": 9,
   "metadata": {},
   "outputs": [
    {
     "name": "stdout",
     "output_type": "stream",
     "text": [
      "<__main__.Dog object at 0x7fb987311640>\n"
     ]
    }
   ],
   "source": [
    "print(dog)"
   ]
  },
  {
   "cell_type": "markdown",
   "metadata": {},
   "source": [
    "###  Задание 11.02\n",
    "\n",
    "Создать два объекта класса Dog. Вывести их на экран"
   ]
  },
  {
   "cell_type": "code",
   "execution_count": 10,
   "metadata": {},
   "outputs": [
    {
     "name": "stdout",
     "output_type": "stream",
     "text": [
      "<__main__.Dog object at 0x7fb9872fc160>\n",
      "<__main__.Dog object at 0x7fb9872fc7c0>\n"
     ]
    }
   ],
   "source": [
    "dog1 = Dog()\n",
    "dog2 = Dog()\n",
    "print(dog1)\n",
    "print(dog2)"
   ]
  },
  {
   "cell_type": "markdown",
   "metadata": {},
   "source": [
    "###  Методы класса"
   ]
  },
  {
   "cell_type": "code",
   "execution_count": 11,
   "metadata": {},
   "outputs": [],
   "source": [
    "class Dog:\n",
    "    def bark(self):\n",
    "        print('Woof Woof!')"
   ]
  },
  {
   "cell_type": "markdown",
   "metadata": {},
   "source": [
    "**self** - обязательный атрибут метода. Позволяет обращаться к атрибутам и методам объекта\n"
   ]
  },
  {
   "cell_type": "code",
   "execution_count": 12,
   "metadata": {},
   "outputs": [
    {
     "name": "stdout",
     "output_type": "stream",
     "text": [
      "Woof Woof!\n"
     ]
    }
   ],
   "source": [
    "dog_1 = Dog()\n",
    "dog_1.bark()  # Обращение к методам происходит через точку"
   ]
  },
  {
   "cell_type": "markdown",
   "metadata": {},
   "source": [
    "_Какие еще бывают методы, к которым можно обратиться через '.' ?_"
   ]
  },
  {
   "cell_type": "markdown",
   "metadata": {},
   "source": [
    "###  Задание 11.03\n",
    "\n",
    "Добавить два метода в класс Dog: jump и run. Методы выводят на экран Jump! и Run! соответственно."
   ]
  },
  {
   "cell_type": "code",
   "execution_count": 13,
   "metadata": {},
   "outputs": [],
   "source": [
    "class Dog:\n",
    "    def bark(self):\n",
    "        print('Woof Woof!')\n",
    "    \n",
    "    def jump(self):\n",
    "        print('Jump!')\n",
    "    \n",
    "    def run(self):\n",
    "        print('Run!')"
   ]
  },
  {
   "cell_type": "code",
   "execution_count": 14,
   "metadata": {},
   "outputs": [
    {
     "name": "stdout",
     "output_type": "stream",
     "text": [
      "Woof Woof!\n",
      "Jump!\n",
      "Run!\n"
     ]
    }
   ],
   "source": [
    "dog = Dog()\n",
    "dog.bark()\n",
    "dog.jump()\n",
    "dog.run()"
   ]
  },
  {
   "cell_type": "markdown",
   "metadata": {},
   "source": [
    "### Конструктор\n",
    "\n",
    "- Конструктор - метод, который вызывается, когда создается объект.\n",
    "- Конструктор инициализирует атрибуты объекта"
   ]
  },
  {
   "cell_type": "code",
   "execution_count": 15,
   "metadata": {},
   "outputs": [],
   "source": [
    "class Dog:\n",
    "    def __init__(self, name):\n",
    "        self.name = name"
   ]
  },
  {
   "cell_type": "code",
   "execution_count": 16,
   "metadata": {
    "scrolled": true
   },
   "outputs": [
    {
     "name": "stdout",
     "output_type": "stream",
     "text": [
      "Bob\n"
     ]
    }
   ],
   "source": [
    "dog_1 = Dog('Bob')\n",
    "print(dog_1.name)"
   ]
  },
  {
   "cell_type": "code",
   "execution_count": 17,
   "metadata": {},
   "outputs": [
    {
     "name": "stdout",
     "output_type": "stream",
     "text": [
      "Rex\n"
     ]
    }
   ],
   "source": [
    "dog_2 = Dog('Rex')\n",
    "print(dog_2.name)"
   ]
  },
  {
   "cell_type": "markdown",
   "metadata": {},
   "source": [
    "###  Задание 11.04\n",
    "\n",
    "Создать класс Dog. Класс имеет четыре атрибута: height, weight, name, age. Класс имеет три метода: jump, run, bark. Каждый метод выводит сообщение на экран. Создать объект класса Dog, вызвать все методы объекта и вывести на экран все его атрибуты."
   ]
  },
  {
   "cell_type": "code",
   "execution_count": 20,
   "metadata": {},
   "outputs": [
    {
     "name": "stdout",
     "output_type": "stream",
     "text": [
      "Woof Woof!\n",
      "Jump!\n",
      "Run!\n",
      "20\n",
      "10\n",
      "Имя:  Bob\n",
      "7\n"
     ]
    }
   ],
   "source": [
    "class Dog:\n",
    "    \n",
    "    def __init__(self, height, weight, name, age):\n",
    "        self.name = name\n",
    "        self.height = height\n",
    "        self.weight = weight\n",
    "        self.age = age\n",
    "\n",
    "    def bark(self):\n",
    "        print('Woof Woof!')\n",
    "    \n",
    "    def jump(self):\n",
    "        print('Jump!')\n",
    "    \n",
    "    def run(self):\n",
    "        print('Run!')\n",
    "\n",
    "\n",
    "dog = Dog(20, 10, \"Bob\", 7)\n",
    "dog.bark()\n",
    "dog.jump()\n",
    "dog.run()\n",
    "\n",
    "print(dog.height)\n",
    "print(dog.weight)\n",
    "print(dog.name)\n",
    "print(dog.age)"
   ]
  },
  {
   "cell_type": "markdown",
   "metadata": {},
   "source": [
    "###  Изменение атрибутов"
   ]
  },
  {
   "cell_type": "code",
   "execution_count": null,
   "metadata": {},
   "outputs": [],
   "source": [
    "class Dog: \n",
    "    ...\n",
    "    def change_height(self, height): \n",
    "        self.height = height  # задали новое значение"
   ]
  },
  {
   "cell_type": "code",
   "execution_count": null,
   "metadata": {},
   "outputs": [],
   "source": [
    "dog_1 = Dog(20, 10, \"Bob\", 7)\n",
    "print(dog_1.height)\n",
    "\n",
    "dog_1.change_height(15)\n",
    "print(dog_1.height)"
   ]
  },
  {
   "cell_type": "code",
   "execution_count": null,
   "metadata": {},
   "outputs": [],
   "source": [
    "# Вариант второй (напрямую)\n",
    "dog_1.height = 20\n",
    "print(dog_1.height)"
   ]
  },
  {
   "cell_type": "markdown",
   "metadata": {},
   "source": [
    "###  Задание 11.05\n",
    "\n",
    "Добавить в класс Dog метод change_name. Метод принимает на вход новое имя и меняет атрибут имени у объекта. Создать один объект класса. Вывести имя. Вызвать метод change_name. Вывести имя."
   ]
  },
  {
   "cell_type": "code",
   "execution_count": 22,
   "metadata": {},
   "outputs": [],
   "source": [
    "class Dog:\n",
    "    def __init__(self, height, weight, name, age):\n",
    "        self.height = height\n",
    "        self.weight = weight\n",
    "        self.name = name\n",
    "        self.age = age\n",
    "        \n",
    "    ...\n",
    "        \n",
    "    def __change_name(self, name):\n",
    "        # задали новое имя\n",
    "        pass"
   ]
  },
  {
   "cell_type": "code",
   "execution_count": 24,
   "metadata": {},
   "outputs": [
    {
     "name": "stdout",
     "output_type": "stream",
     "text": [
      "Bob\n"
     ]
    },
    {
     "ename": "AttributeError",
     "evalue": "'Dog' object has no attribute '__change_name'",
     "output_type": "error",
     "traceback": [
      "\u001b[0;31m---------------------------------------------------------------------------\u001b[0m",
      "\u001b[0;31mAttributeError\u001b[0m                            Traceback (most recent call last)",
      "\u001b[0;32m<ipython-input-24-30b5fd0193b0>\u001b[0m in \u001b[0;36m<module>\u001b[0;34m\u001b[0m\n\u001b[1;32m      2\u001b[0m \u001b[0mprint\u001b[0m\u001b[0;34m(\u001b[0m\u001b[0mdog_1\u001b[0m\u001b[0;34m.\u001b[0m\u001b[0mname\u001b[0m\u001b[0;34m)\u001b[0m\u001b[0;34m\u001b[0m\u001b[0;34m\u001b[0m\u001b[0m\n\u001b[1;32m      3\u001b[0m \u001b[0;34m\u001b[0m\u001b[0m\n\u001b[0;32m----> 4\u001b[0;31m \u001b[0mdog_1\u001b[0m\u001b[0;34m.\u001b[0m\u001b[0m__change_name\u001b[0m\u001b[0;34m(\u001b[0m\u001b[0;34m\"Rex\"\u001b[0m\u001b[0;34m)\u001b[0m\u001b[0;34m\u001b[0m\u001b[0;34m\u001b[0m\u001b[0m\n\u001b[0m\u001b[1;32m      5\u001b[0m \u001b[0mprint\u001b[0m\u001b[0;34m(\u001b[0m\u001b[0mdog_1\u001b[0m\u001b[0;34m.\u001b[0m\u001b[0mname\u001b[0m\u001b[0;34m)\u001b[0m\u001b[0;34m\u001b[0m\u001b[0;34m\u001b[0m\u001b[0m\n",
      "\u001b[0;31mAttributeError\u001b[0m: 'Dog' object has no attribute '__change_name'"
     ]
    }
   ],
   "source": [
    "dog_1 = Dog(20, 10, \"Bob\", 7)\n",
    "print(dog_1.name)\n",
    "\n",
    "dog_1.__change_name(\"Rex\")\n",
    "print(dog_1.name)"
   ]
  },
  {
   "cell_type": "markdown",
   "metadata": {},
   "source": [
    "###  Модификаторы доступа"
   ]
  },
  {
   "cell_type": "code",
   "execution_count": 25,
   "metadata": {},
   "outputs": [],
   "source": [
    "class Dog:\n",
    "    def __init__(self, name, age, weight):\n",
    "        self.__name = name      # private \n",
    "        self._age = age         # protected \n",
    "        self.weight = weight    # public"
   ]
  },
  {
   "cell_type": "code",
   "execution_count": 26,
   "metadata": {},
   "outputs": [],
   "source": [
    "dog = Dog('Bob', 8, 2.4)"
   ]
  },
  {
   "cell_type": "code",
   "execution_count": 28,
   "metadata": {},
   "outputs": [
    {
     "ename": "AttributeError",
     "evalue": "'Dog' object has no attribute '__name'",
     "output_type": "error",
     "traceback": [
      "\u001b[0;31m---------------------------------------------------------------------------\u001b[0m",
      "\u001b[0;31mAttributeError\u001b[0m                            Traceback (most recent call last)",
      "\u001b[0;32m<ipython-input-28-2a56c4d37255>\u001b[0m in \u001b[0;36m<module>\u001b[0;34m\u001b[0m\n\u001b[0;32m----> 1\u001b[0;31m \u001b[0mprint\u001b[0m\u001b[0;34m(\u001b[0m\u001b[0mdog\u001b[0m\u001b[0;34m.\u001b[0m\u001b[0m__name\u001b[0m\u001b[0;34m)\u001b[0m \u001b[0;31m# ERROR\u001b[0m\u001b[0;34m\u001b[0m\u001b[0;34m\u001b[0m\u001b[0m\n\u001b[0m",
      "\u001b[0;31mAttributeError\u001b[0m: 'Dog' object has no attribute '__name'"
     ]
    }
   ],
   "source": [
    "print(dog.__name) # ERROR "
   ]
  },
  {
   "cell_type": "code",
   "execution_count": 29,
   "metadata": {},
   "outputs": [
    {
     "name": "stdout",
     "output_type": "stream",
     "text": [
      "Bob\n"
     ]
    }
   ],
   "source": [
    "print(dog._Dog__name)"
   ]
  },
  {
   "cell_type": "code",
   "execution_count": 27,
   "metadata": {},
   "outputs": [
    {
     "name": "stdout",
     "output_type": "stream",
     "text": [
      "8\n"
     ]
    }
   ],
   "source": [
    "print(dog._age) "
   ]
  },
  {
   "cell_type": "code",
   "execution_count": null,
   "metadata": {},
   "outputs": [],
   "source": [
    "print(dog.weight)"
   ]
  },
  {
   "cell_type": "markdown",
   "metadata": {},
   "source": [
    "###  Задание 11.06\n",
    "\n",
    "Добавить в метод инициализации новый приватный атрибут - master. Создать метод get_master() который возвращает значение атрибута master."
   ]
  },
  {
   "cell_type": "code",
   "execution_count": 32,
   "metadata": {},
   "outputs": [],
   "source": [
    "class Dog:\n",
    "    def __init__(self, master):\n",
    "        self.__master = master\n",
    "    \n",
    "    def get_master(self):\n",
    "        return self.__master"
   ]
  },
  {
   "cell_type": "code",
   "execution_count": 33,
   "metadata": {},
   "outputs": [
    {
     "name": "stdout",
     "output_type": "stream",
     "text": [
      "test value\n"
     ]
    }
   ],
   "source": [
    "dog = Dog('test value')\n",
    "print(dog.get_master())"
   ]
  },
  {
   "cell_type": "markdown",
   "metadata": {},
   "source": [
    "### getter, setter"
   ]
  },
  {
   "cell_type": "code",
   "execution_count": 35,
   "metadata": {},
   "outputs": [],
   "source": [
    "class Dog: \n",
    "    def __init__(self, master): \n",
    "        self.__master = master\n",
    "        \n",
    "    def get_master(self): \n",
    "        return self.__master\n",
    "    \n",
    "    def set_master(self, master): \n",
    "        self.__master = master"
   ]
  },
  {
   "cell_type": "code",
   "execution_count": 36,
   "metadata": {},
   "outputs": [
    {
     "name": "stdout",
     "output_type": "stream",
     "text": [
      "Alex\n",
      "Pavel\n"
     ]
    }
   ],
   "source": [
    "dog = Dog('Alex')\n",
    "print(dog.get_master())\n",
    "\n",
    "dog.set_master('Pavel')\n",
    "print(dog.get_master())"
   ]
  },
  {
   "cell_type": "markdown",
   "metadata": {},
   "source": [
    "###  Задание 11.07\n",
    "\n",
    "Добавить новый приватный атрибут адрес(по-умолчанию равен ‘Minsk’). Добавить getter и setter для адреса."
   ]
  },
  {
   "cell_type": "code",
   "execution_count": 38,
   "metadata": {},
   "outputs": [
    {
     "name": "stdout",
     "output_type": "stream",
     "text": [
      "Minsk\n",
      "Moscow\n"
     ]
    }
   ],
   "source": [
    "class Dog:\n",
    "    def __init__(self, city=\"Minsk\"):\n",
    "        self.__city = city\n",
    "        \n",
    "    def get_city(self):\n",
    "        return self.__city\n",
    "    \n",
    "    def set_city(self, city):\n",
    "        self.__city = city\n",
    "\n",
    "dog = Dog()\n",
    "print(dog.get_city())\n",
    "dog.set_city(\"Moscow\")\n",
    "print(dog.get_city())"
   ]
  },
  {
   "cell_type": "markdown",
   "metadata": {},
   "source": [
    "### getter, setter через декораторы\n",
    "\n",
    "- Декоратор @property позволяет обращаться к методам без использования скобок\n",
    "- Декоратор @имя_метода.setter позволяет передавать аргумент в функцию через знак присваивания ="
   ]
  },
  {
   "cell_type": "code",
   "execution_count": 39,
   "metadata": {},
   "outputs": [],
   "source": [
    "class Dog:\n",
    "    def __init__(self, master):\n",
    "        self.__master = master \n",
    "\n",
    "    @property\n",
    "    def master(self): \n",
    "        return self.__master\n",
    "\n",
    "    @master.setter\n",
    "    def master(self, master):\n",
    "        if len(master) < 5: \n",
    "            self.__master = master"
   ]
  },
  {
   "cell_type": "code",
   "execution_count": 40,
   "metadata": {},
   "outputs": [
    {
     "name": "stdout",
     "output_type": "stream",
     "text": [
      "Moe\n"
     ]
    }
   ],
   "source": [
    "dog = Dog('Alex') \n",
    "dog.master = 'Moe'\n",
    "print(dog.master)"
   ]
  },
  {
   "cell_type": "markdown",
   "metadata": {},
   "source": [
    "###  Задание 11.08  (Сделать в ДЗ)\n",
    "\n",
    "Сделать все атрибуты класса Dog приватными. Сделать для каждого атрибута getter и setter используя декораторы. Все change методы удалить"
   ]
  },
  {
   "cell_type": "code",
   "execution_count": null,
   "metadata": {},
   "outputs": [],
   "source": [
    "class Dog:\n",
    "    def __init__(self, height, weight, name, age):\n",
    "        self.height = height\n",
    "        self.weight = weight\n",
    "        self.name = name\n",
    "        self.age = age\n",
    "        # MAKE ALL PRIVATE\n",
    "\n",
    "    def change_name(self, name):\n",
    "        self.name = name\n",
    "    \n",
    "    # getter\n",
    "    \n",
    "    # setter"
   ]
  },
  {
   "cell_type": "markdown",
   "metadata": {},
   "source": [
    "### Класс как тип данных"
   ]
  },
  {
   "cell_type": "code",
   "execution_count": 41,
   "metadata": {},
   "outputs": [],
   "source": [
    "class Point:\n",
    "    def __init__(self, x, y):\n",
    "        self.x = x \n",
    "        self.y = y\n",
    "\n",
    "\n",
    "class Square:\n",
    "    def __init__(self, point_a, point_b):\n",
    "        self.point_a = point_a \n",
    "        self.point_b = point_b"
   ]
  },
  {
   "cell_type": "code",
   "execution_count": 42,
   "metadata": {},
   "outputs": [],
   "source": [
    "first_point = Point(1, 1)\n",
    "second_point = Point(4, 4)"
   ]
  },
  {
   "cell_type": "code",
   "execution_count": 43,
   "metadata": {},
   "outputs": [],
   "source": [
    "square = Square(first_point, second_point)"
   ]
  },
  {
   "cell_type": "markdown",
   "metadata": {},
   "source": [
    "###  Задание 11.09 (ДЗ)\n",
    "\n",
    "Создать три класса: Dog, Cat, Parrot. Атрибуты каждого класса: name, age, master. Каждый класс содержит конструктор и методы: run, jump, birthday(увеличивает age на 1), sleep. Класс Parrot имеет дополнительный метод fly. Cat - meow, Dog - bark."
   ]
  },
  {
   "cell_type": "code",
   "execution_count": null,
   "metadata": {},
   "outputs": [],
   "source": [
    "class Dog:\n",
    "    # конструктор __init__\n",
    "    \n",
    "    # Run!\n",
    "    \n",
    "    # Jump!\n",
    "    \n",
    "    def birthday():\n",
    "        # Увеличить self.age\n",
    "        \n",
    "    # Sleep!"
   ]
  },
  {
   "cell_type": "code",
   "execution_count": null,
   "metadata": {},
   "outputs": [],
   "source": [
    "class Cat:\n",
    "    pass"
   ]
  },
  {
   "cell_type": "code",
   "execution_count": null,
   "metadata": {},
   "outputs": [],
   "source": [
    "class Parrot:\n",
    "    pass"
   ]
  },
  {
   "cell_type": "markdown",
   "metadata": {},
   "source": [
    "### Наследование\n",
    "\n",
    "Дочерний класс наследуют все методы родитльского класса."
   ]
  },
  {
   "cell_type": "code",
   "execution_count": 49,
   "metadata": {},
   "outputs": [],
   "source": [
    "class Wolf:\n",
    "    def bark(self):\n",
    "        print('WOOooOOOoooo')\n",
    "        \n",
    "\n",
    "class Dog(Wolf):\n",
    "    pass"
   ]
  },
  {
   "cell_type": "code",
   "execution_count": 50,
   "metadata": {},
   "outputs": [
    {
     "name": "stdout",
     "output_type": "stream",
     "text": [
      "WOOooOOOoooo\n"
     ]
    }
   ],
   "source": [
    "dog = Dog()\n",
    "dog.bark()"
   ]
  },
  {
   "cell_type": "markdown",
   "metadata": {},
   "source": [
    "###  Задание 11.10 (ДЗ)\n",
    "\n",
    "Создать родительский класс Pet, содержащий все общие методы классов Dog, Cat, Parrot. Унаследовать Dog, Cat, Parrot от класса Pet. Удалить в дочерних классах те методы, которые имеются у родительского класса. Создать объект каждого класса и вызвать все его методы."
   ]
  },
  {
   "cell_type": "code",
   "execution_count": null,
   "metadata": {},
   "outputs": [],
   "source": []
  },
  {
   "cell_type": "markdown",
   "metadata": {},
   "source": [
    "### Перегрузка методов"
   ]
  },
  {
   "cell_type": "code",
   "execution_count": 52,
   "metadata": {},
   "outputs": [],
   "source": [
    "class Wolf:\n",
    "    def bark(self):\n",
    "        print('WOOooOOOoooo')\n",
    "        \n",
    "\n",
    "class Dog(Wolf):\n",
    "    def bark(self):\n",
    "        print(\"Гав Гав!\")"
   ]
  },
  {
   "cell_type": "code",
   "execution_count": 53,
   "metadata": {},
   "outputs": [
    {
     "name": "stdout",
     "output_type": "stream",
     "text": [
      "Гав Гав!\n"
     ]
    }
   ],
   "source": [
    "dog = Dog()\n",
    "dog.bark()"
   ]
  },
  {
   "cell_type": "code",
   "execution_count": 56,
   "metadata": {
    "scrolled": false
   },
   "outputs": [
    {
     "name": "stdout",
     "output_type": "stream",
     "text": [
      "Гав Гав!\n"
     ]
    }
   ],
   "source": [
    "wolf = Dog()\n",
    "wolf.bark()"
   ]
  },
  {
   "cell_type": "markdown",
   "metadata": {},
   "source": [
    "### Переопределение аттрибутов"
   ]
  },
  {
   "cell_type": "code",
   "execution_count": 57,
   "metadata": {},
   "outputs": [],
   "source": [
    "class Car:\n",
    "    def __init__(self, count):\n",
    "        self.count = count"
   ]
  },
  {
   "cell_type": "code",
   "execution_count": 58,
   "metadata": {},
   "outputs": [
    {
     "name": "stdout",
     "output_type": "stream",
     "text": [
      "4\n"
     ]
    }
   ],
   "source": [
    "car = Car(4)\n",
    "print(car.count)"
   ]
  },
  {
   "cell_type": "code",
   "execution_count": 66,
   "metadata": {},
   "outputs": [],
   "source": [
    "class BMW(Car):\n",
    "    \n",
    "    def off(self):\n",
    "        print(\"Я ВСЕ :(\")"
   ]
  },
  {
   "cell_type": "code",
   "execution_count": 68,
   "metadata": {},
   "outputs": [
    {
     "name": "stdout",
     "output_type": "stream",
     "text": [
      "4\n"
     ]
    }
   ],
   "source": [
    "bmw = BMW(4, True)\n",
    "print(bmw.count)"
   ]
  },
  {
   "cell_type": "code",
   "execution_count": 64,
   "metadata": {},
   "outputs": [
    {
     "name": "stdout",
     "output_type": "stream",
     "text": [
      "Я ВСЕ :(\n"
     ]
    }
   ],
   "source": [
    "bmw.off()"
   ]
  },
  {
   "cell_type": "code",
   "execution_count": 69,
   "metadata": {},
   "outputs": [
    {
     "data": {
      "text/plain": [
       "True"
      ]
     },
     "execution_count": 69,
     "metadata": {},
     "output_type": "execute_result"
    }
   ],
   "source": [
    "bmw.is_swag"
   ]
  },
  {
   "cell_type": "code",
   "execution_count": 70,
   "metadata": {},
   "outputs": [
    {
     "ename": "AttributeError",
     "evalue": "'Car' object has no attribute 'off'",
     "output_type": "error",
     "traceback": [
      "\u001b[0;31m---------------------------------------------------------------------------\u001b[0m",
      "\u001b[0;31mAttributeError\u001b[0m                            Traceback (most recent call last)",
      "\u001b[0;32m<ipython-input-70-4360b5c7cd6e>\u001b[0m in \u001b[0;36m<module>\u001b[0;34m\u001b[0m\n\u001b[0;32m----> 1\u001b[0;31m \u001b[0mcar\u001b[0m\u001b[0;34m.\u001b[0m\u001b[0moff\u001b[0m\u001b[0;34m(\u001b[0m\u001b[0;34m)\u001b[0m\u001b[0;34m\u001b[0m\u001b[0;34m\u001b[0m\u001b[0m\n\u001b[0m",
      "\u001b[0;31mAttributeError\u001b[0m: 'Car' object has no attribute 'off'"
     ]
    }
   ],
   "source": [
    "car.off()"
   ]
  },
  {
   "cell_type": "code",
   "execution_count": 71,
   "metadata": {},
   "outputs": [
    {
     "ename": "AttributeError",
     "evalue": "'Car' object has no attribute 'is_swag'",
     "output_type": "error",
     "traceback": [
      "\u001b[0;31m---------------------------------------------------------------------------\u001b[0m",
      "\u001b[0;31mAttributeError\u001b[0m                            Traceback (most recent call last)",
      "\u001b[0;32m<ipython-input-71-c9db9201393b>\u001b[0m in \u001b[0;36m<module>\u001b[0;34m\u001b[0m\n\u001b[0;32m----> 1\u001b[0;31m \u001b[0mcar\u001b[0m\u001b[0;34m.\u001b[0m\u001b[0mis_swag\u001b[0m\u001b[0;34m\u001b[0m\u001b[0;34m\u001b[0m\u001b[0m\n\u001b[0m",
      "\u001b[0;31mAttributeError\u001b[0m: 'Car' object has no attribute 'is_swag'"
     ]
    }
   ],
   "source": [
    "car.is_swag"
   ]
  },
  {
   "cell_type": "markdown",
   "metadata": {},
   "source": [
    "###  Задание 11.11 (ДЗ)\n",
    "\n",
    "Добавить два новых атрибута в родительский класс: weight и height.\n",
    "\n",
    "Добавить методы change_weight, change_height принимающий один параметр и прибавляющий его к соответствующему аргументу. В случае если параметр не был передан, увеличивать на 0.2.\n",
    "\n",
    "Изменить метод fly класса Parrot. Если вес больше 0.1 выводить сообщение This parrot cannot fly."
   ]
  },
  {
   "cell_type": "code",
   "execution_count": null,
   "metadata": {},
   "outputs": [],
   "source": []
  },
  {
   "cell_type": "code",
   "execution_count": null,
   "metadata": {},
   "outputs": [],
   "source": []
  },
  {
   "cell_type": "code",
   "execution_count": null,
   "metadata": {},
   "outputs": [],
   "source": []
  },
  {
   "cell_type": "code",
   "execution_count": null,
   "metadata": {},
   "outputs": [],
   "source": []
  }
 ],
 "metadata": {
  "kernelspec": {
   "display_name": "Python 3",
   "language": "python",
   "name": "python3"
  },
  "language_info": {
   "codemirror_mode": {
    "name": "ipython",
    "version": 3
   },
   "file_extension": ".py",
   "mimetype": "text/x-python",
   "name": "python",
   "nbconvert_exporter": "python",
   "pygments_lexer": "ipython3",
   "version": "3.8.3"
  }
 },
 "nbformat": 4,
 "nbformat_minor": 4
}
