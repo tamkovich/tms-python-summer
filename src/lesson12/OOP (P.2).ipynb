{
 "cells": [
  {
   "cell_type": "markdown",
   "metadata": {},
   "source": [
    "# Объектно-ориентированное программирование (ООП) (Часть 2)\n",
    "\n",
    "**Denis Tamkovich**"
   ]
  },
  {
   "cell_type": "markdown",
   "metadata": {},
   "source": [
    "### Переопределение метода.\n",
    "\n",
    "Переопределение метода заключается в изменении поведения дочернего метода при сохранении сигнатуры (имени и параметров) родительского"
   ]
  },
  {
   "cell_type": "code",
   "execution_count": 4,
   "metadata": {},
   "outputs": [],
   "source": [
    "class A:\n",
    "    def do_something(self):\n",
    "        print('AA')\n",
    "\n",
    "        \n",
    "class B(A):\n",
    "    def do_something(self):\n",
    "        print('BB')"
   ]
  },
  {
   "cell_type": "code",
   "execution_count": 5,
   "metadata": {},
   "outputs": [],
   "source": [
    "b = B()"
   ]
  },
  {
   "cell_type": "code",
   "execution_count": 6,
   "metadata": {},
   "outputs": [
    {
     "name": "stdout",
     "output_type": "stream",
     "text": [
      "BB\n"
     ]
    }
   ],
   "source": [
    "b.do_something()"
   ]
  },
  {
   "cell_type": "markdown",
   "metadata": {},
   "source": [
    "### Задание 12.01\n",
    "\n",
    "Переопределить методы change_weight, change_height в классе Parrot. В случае не передачи параметра - вес изменяется на 0.05"
   ]
  },
  {
   "cell_type": "code",
   "execution_count": null,
   "metadata": {},
   "outputs": [],
   "source": []
  },
  {
   "cell_type": "markdown",
   "metadata": {},
   "source": [
    "### Вызов родительского метода"
   ]
  },
  {
   "cell_type": "markdown",
   "metadata": {},
   "source": [
    "### Алгоритм C3\n",
    "\n",
    "MRO - Что такое? (ДЗ) Спрашивают на собесах!"
   ]
  },
  {
   "cell_type": "code",
   "execution_count": 17,
   "metadata": {},
   "outputs": [],
   "source": [
    "class A:\n",
    "    def do_something(self):\n",
    "        print('AA')\n",
    "        \n",
    "\n",
    "class C:\n",
    "    def do_something(self):\n",
    "        print('CC')\n",
    "\n",
    "\n",
    "class B(A, C):\n",
    "    def do_something(self): \n",
    "        super().do_something()\n",
    "        print('BB')"
   ]
  },
  {
   "cell_type": "code",
   "execution_count": 18,
   "metadata": {},
   "outputs": [
    {
     "name": "stdout",
     "output_type": "stream",
     "text": [
      "AA\n",
      "BB\n"
     ]
    }
   ],
   "source": [
    "b = B()\n",
    "b.do_something()"
   ]
  },
  {
   "cell_type": "markdown",
   "metadata": {},
   "source": [
    "### Задание 12.02\n",
    "\n",
    "Добавить метод jump, принимающий высоту прыжка. Метод выводит сообщение “Jump X meters”\n",
    "\n",
    "Переопределить метод jump в дочерних классах. Если передать методу jump класса dog значение больше 0.5, выводить сообщение “Dogs cannot jump so high, аналогично для кошек(2), для попугаев(0.05)\n",
    " "
   ]
  },
  {
   "cell_type": "code",
   "execution_count": 29,
   "metadata": {},
   "outputs": [],
   "source": [
    "class Pet:\n",
    "    def jump(self, meters):\n",
    "        print(f\"Jump {meters} meters\")\n",
    "        \n",
    "\n",
    "class Dog(Pet):\n",
    "    def jump(self, meters):\n",
    "        if meters < 0.5:\n",
    "            super().jump(meters)\n",
    "        else:\n",
    "            print(\"Dogs cannot jump so high\")\n",
    "        \n",
    "\n",
    "class Cat(Pet):\n",
    "    def jump(self, meters):\n",
    "        if meters < 2:\n",
    "            super().jump(meters)\n",
    "        else:\n",
    "            print(\"Dogs cannot jump so high\")"
   ]
  },
  {
   "cell_type": "code",
   "execution_count": 21,
   "metadata": {},
   "outputs": [
    {
     "name": "stdout",
     "output_type": "stream",
     "text": [
      "Jump 1 meters\n"
     ]
    }
   ],
   "source": [
    "pet = Pet()\n",
    "pet.jump(1)"
   ]
  },
  {
   "cell_type": "code",
   "execution_count": 30,
   "metadata": {},
   "outputs": [
    {
     "name": "stdout",
     "output_type": "stream",
     "text": [
      "Dogs cannot jump so high\n"
     ]
    }
   ],
   "source": [
    "dog = Dog()\n",
    "dog.jump(10)"
   ]
  },
  {
   "cell_type": "code",
   "execution_count": 31,
   "metadata": {},
   "outputs": [
    {
     "name": "stdout",
     "output_type": "stream",
     "text": [
      "Jump 1 meters\n"
     ]
    }
   ],
   "source": [
    "cat = Cat()\n",
    "cat.jump(1)"
   ]
  },
  {
   "cell_type": "markdown",
   "metadata": {},
   "source": [
    "###  Добавление атрибутов в дочерний класс"
   ]
  },
  {
   "cell_type": "code",
   "execution_count": 34,
   "metadata": {},
   "outputs": [],
   "source": [
    "class A:\n",
    "    def __init__(self, a):\n",
    "        self.a = a\n",
    "        \n",
    "    def print_a(self):\n",
    "        print(self.a)\n",
    "\n",
    "\n",
    "class B(A):\n",
    "    def __init__(self, b): \n",
    "        self.b = b"
   ]
  },
  {
   "cell_type": "code",
   "execution_count": 36,
   "metadata": {},
   "outputs": [
    {
     "ename": "AttributeError",
     "evalue": "'B' object has no attribute 'a'",
     "output_type": "error",
     "traceback": [
      "\u001b[0;31m---------------------------------------------------------------------------\u001b[0m",
      "\u001b[0;31mAttributeError\u001b[0m                            Traceback (most recent call last)",
      "\u001b[0;32m<ipython-input-36-8640fd74734d>\u001b[0m in \u001b[0;36m<module>\u001b[0;34m\u001b[0m\n\u001b[1;32m      1\u001b[0m \u001b[0mb\u001b[0m \u001b[0;34m=\u001b[0m \u001b[0mB\u001b[0m\u001b[0;34m(\u001b[0m\u001b[0;36m1\u001b[0m\u001b[0;34m)\u001b[0m\u001b[0;34m\u001b[0m\u001b[0;34m\u001b[0m\u001b[0m\n\u001b[0;32m----> 2\u001b[0;31m \u001b[0mb\u001b[0m\u001b[0;34m.\u001b[0m\u001b[0ma\u001b[0m\u001b[0;34m\u001b[0m\u001b[0;34m\u001b[0m\u001b[0m\n\u001b[0m",
      "\u001b[0;31mAttributeError\u001b[0m: 'B' object has no attribute 'a'"
     ]
    }
   ],
   "source": [
    "b = B(1)\n",
    "b.a"
   ]
  },
  {
   "cell_type": "code",
   "execution_count": 35,
   "metadata": {},
   "outputs": [
    {
     "ename": "AttributeError",
     "evalue": "'B' object has no attribute 'print_a'",
     "output_type": "error",
     "traceback": [
      "\u001b[0;31m---------------------------------------------------------------------------\u001b[0m",
      "\u001b[0;31mAttributeError\u001b[0m                            Traceback (most recent call last)",
      "\u001b[0;32m<ipython-input-35-69330560e8f6>\u001b[0m in \u001b[0;36m<module>\u001b[0;34m\u001b[0m\n\u001b[0;32m----> 1\u001b[0;31m \u001b[0mb\u001b[0m\u001b[0;34m.\u001b[0m\u001b[0mprint_a\u001b[0m\u001b[0;34m(\u001b[0m\u001b[0;34m)\u001b[0m\u001b[0;34m\u001b[0m\u001b[0;34m\u001b[0m\u001b[0m\n\u001b[0m",
      "\u001b[0;31mAttributeError\u001b[0m: 'B' object has no attribute 'print_a'"
     ]
    }
   ],
   "source": [
    "b.print_a()"
   ]
  },
  {
   "cell_type": "markdown",
   "metadata": {},
   "source": [
    "### Задание 12.03\n",
    "\n",
    "Добавить в класс Perrot новый атрибут - species"
   ]
  },
  {
   "cell_type": "code",
   "execution_count": 46,
   "metadata": {},
   "outputs": [],
   "source": [
    "class Pet:\n",
    "    def jump(self, meters):\n",
    "        print(f\"Jump {meters} meters\")\n",
    "        \n",
    "\n",
    "class Dog(Pet):\n",
    "    pass\n",
    "        \n",
    "\n",
    "class Cat(Pet):\n",
    "    pass\n",
    "            \n",
    "\n",
    "class Perrot(Pet):\n",
    "    def __init__(self, species):\n",
    "        self.species = species"
   ]
  },
  {
   "cell_type": "code",
   "execution_count": 48,
   "metadata": {},
   "outputs": [
    {
     "name": "stdout",
     "output_type": "stream",
     "text": [
      "10\n"
     ]
    }
   ],
   "source": [
    "perrot = Perrot()\n",
    "print(perrot.species)"
   ]
  },
  {
   "cell_type": "markdown",
   "metadata": {},
   "source": [
    "### Задание 12.04\n",
    "\n",
    "Добавить в класс Pet пустой метод voice. Заменить имена методов bark, meow на voice. Добавить voice для класса Parrot.\n",
    "\n",
    "Создать функцию, принимающая список животных и вызывающая у каждого животного метод voice.\n",
    " "
   ]
  },
  {
   "cell_type": "code",
   "execution_count": 80,
   "metadata": {},
   "outputs": [],
   "source": [
    "class Pet:\n",
    "    VOICE = None\n",
    "\n",
    "    def voice(self):\n",
    "        print(VOICE)\n",
    "\n",
    "\n",
    "class Dog(Pet):\n",
    "    VOICE = \"Woof Woof!\"\n",
    "\n",
    "\n",
    "class Cat(Pet):\n",
    "    VOICE = \"Meow!\""
   ]
  },
  {
   "cell_type": "code",
   "execution_count": 81,
   "metadata": {},
   "outputs": [
    {
     "name": "stdout",
     "output_type": "stream",
     "text": [
      "Woof Woof!\n"
     ]
    }
   ],
   "source": [
    "dog = Dog()\n",
    "dog.voice()  # Woof Woof!"
   ]
  },
  {
   "cell_type": "code",
   "execution_count": 77,
   "metadata": {},
   "outputs": [
    {
     "name": "stdout",
     "output_type": "stream",
     "text": [
      "Meow!\n"
     ]
    }
   ],
   "source": [
    "cat = Cat()\n",
    "cat.voice()  # Meow!"
   ]
  },
  {
   "cell_type": "markdown",
   "metadata": {},
   "source": [
    "### Функция dir(object)\n",
    "\n",
    "_Как узнать, какие есть аттрибуты и методы у класса?_ (Вопрос с собеса)"
   ]
  },
  {
   "cell_type": "code",
   "execution_count": 82,
   "metadata": {},
   "outputs": [
    {
     "name": "stdout",
     "output_type": "stream",
     "text": [
      "['VOICE', '__class__', '__delattr__', '__dict__', '__dir__', '__doc__', '__eq__', '__format__', '__ge__', '__getattribute__', '__gt__', '__hash__', '__init__', '__init_subclass__', '__le__', '__lt__', '__module__', '__ne__', '__new__', '__reduce__', '__reduce_ex__', '__repr__', '__setattr__', '__sizeof__', '__str__', '__subclasshook__', '__weakref__', 'voice']\n"
     ]
    }
   ],
   "source": [
    "print(dir(Dog))"
   ]
  },
  {
   "cell_type": "markdown",
   "metadata": {},
   "source": [
    "### Магические методы\n",
    "\n",
    "Магические методы - методы которые начинаются и заканчиваются с двойного подчеркивания. Магические методы переопределяют действия тех или иных операторов\n",
    "\n",
    "- http://sheregeda.github.io/blog/2015/01/18/maghichieskiie-mietody-python/\n",
    "- https://pythonworld.ru/osnovy/peregruzka-operatorov.html\n",
    "\n",
    "_Какой магический метод вызывается первым при создание объекта класса?_ (Вопрос с собеседований)\n",
    "\n",
    "<code>\n",
    "__new__\n",
    "__init__\n",
    "<code/>\n",
    "..."
   ]
  },
  {
   "cell_type": "code",
   "execution_count": 83,
   "metadata": {},
   "outputs": [],
   "source": [
    "a = 'abc'"
   ]
  },
  {
   "cell_type": "code",
   "execution_count": 86,
   "metadata": {},
   "outputs": [
    {
     "data": {
      "text/plain": [
       "3"
      ]
     },
     "execution_count": 86,
     "metadata": {},
     "output_type": "execute_result"
    }
   ],
   "source": [
    "a.__len__()"
   ]
  },
  {
   "cell_type": "code",
   "execution_count": 88,
   "metadata": {
    "scrolled": false
   },
   "outputs": [
    {
     "data": {
      "text/plain": [
       "3"
      ]
     },
     "execution_count": 88,
     "metadata": {},
     "output_type": "execute_result"
    }
   ],
   "source": [
    "len(a)"
   ]
  },
  {
   "cell_type": "code",
   "execution_count": 98,
   "metadata": {},
   "outputs": [],
   "source": [
    "class Dog:\n",
    "    def __init__(self, name):\n",
    "        self.name = name\n",
    "\n",
    "    def __repr__(self):\n",
    "        return self.name"
   ]
  },
  {
   "cell_type": "code",
   "execution_count": 99,
   "metadata": {},
   "outputs": [
    {
     "name": "stdout",
     "output_type": "stream",
     "text": [
      "Test\n"
     ]
    }
   ],
   "source": [
    "dog = Dog(\"Bob\")\n",
    "print(dog)"
   ]
  },
  {
   "cell_type": "markdown",
   "metadata": {},
   "source": [
    "### Задание 12.05\n",
    "\n",
    "Создать класс MyTime. Атрибуты: hours, minutes, seconds.\n",
    "\n",
    "Переопределить магические методы сравнения(равно, не равно), сложения, вычитания, вывод на экран.\n",
    "\n",
    "Перегрузить конструктор на обработку входных параметров вида: одна строка, три числа, другой объект класса MyTime. В остальных случаях создавать объект по-умолчанию(0-0-0)"
   ]
  },
  {
   "cell_type": "code",
   "execution_count": 129,
   "metadata": {},
   "outputs": [],
   "source": [
    "class MyTime:\n",
    "    def __init__(self, hours, minutes, seconds):\n",
    "        self.hours = hours\n",
    "        self.minutes = minutes\n",
    "        self.seconds = seconds\n",
    "\n",
    "    def __eq__(self, other):\n",
    "        return self.hours == other.hours and self.minutes == other.minutes"
   ]
  },
  {
   "cell_type": "code",
   "execution_count": 130,
   "metadata": {},
   "outputs": [],
   "source": [
    "time1 = MyTime(10, 10, 10)\n",
    "time2 = MyTime(10, 30, 30)"
   ]
  },
  {
   "cell_type": "code",
   "execution_count": 131,
   "metadata": {},
   "outputs": [
    {
     "name": "stdout",
     "output_type": "stream",
     "text": [
      "True\n"
     ]
    }
   ],
   "source": [
    "print(time1 != time2)"
   ]
  },
  {
   "cell_type": "markdown",
   "metadata": {},
   "source": [
    "### Атрибуты класса vs Атрибуты объекта(экземпляра)\n",
    "\n",
    "Атрибуты класса - атрибуты, которые делят между собой все объекты данного класса.\n",
    "\n",
    "last_model - атрибут класса, значение которого доступно из любого объекта и также самого класса\n",
    "\n",
    "model - атрибут экземпляра, значение которого доступно только через сам объект (атрибут экземпляра - собственность экземпляра)"
   ]
  },
  {
   "cell_type": "code",
   "execution_count": 164,
   "metadata": {},
   "outputs": [],
   "source": [
    "class BMW:\n",
    "    name = \"BMW\"\n",
    "\n",
    "    def __init__(self, model):\n",
    "        self.model = model"
   ]
  },
  {
   "cell_type": "code",
   "execution_count": 165,
   "metadata": {},
   "outputs": [
    {
     "data": {
      "text/plain": [
       "'BMW'"
      ]
     },
     "execution_count": 165,
     "metadata": {},
     "output_type": "execute_result"
    }
   ],
   "source": [
    "BMW.name"
   ]
  },
  {
   "cell_type": "code",
   "execution_count": 166,
   "metadata": {},
   "outputs": [
    {
     "ename": "AttributeError",
     "evalue": "type object 'BMW' has no attribute 'model'",
     "output_type": "error",
     "traceback": [
      "\u001b[0;31m---------------------------------------------------------------------------\u001b[0m",
      "\u001b[0;31mAttributeError\u001b[0m                            Traceback (most recent call last)",
      "\u001b[0;32m<ipython-input-166-687cd2b0216b>\u001b[0m in \u001b[0;36m<module>\u001b[0;34m\u001b[0m\n\u001b[0;32m----> 1\u001b[0;31m \u001b[0mBMW\u001b[0m\u001b[0;34m.\u001b[0m\u001b[0mmodel\u001b[0m\u001b[0;34m\u001b[0m\u001b[0;34m\u001b[0m\u001b[0m\n\u001b[0m",
      "\u001b[0;31mAttributeError\u001b[0m: type object 'BMW' has no attribute 'model'"
     ]
    }
   ],
   "source": [
    "BMW.model"
   ]
  },
  {
   "cell_type": "code",
   "execution_count": 167,
   "metadata": {},
   "outputs": [],
   "source": [
    "x5 = BMW(\"X5\")\n",
    "m30 = BMW(\"M30 Perfomance\")"
   ]
  },
  {
   "cell_type": "code",
   "execution_count": 168,
   "metadata": {},
   "outputs": [
    {
     "data": {
      "text/plain": [
       "('BMW', 'X5')"
      ]
     },
     "execution_count": 168,
     "metadata": {},
     "output_type": "execute_result"
    }
   ],
   "source": [
    "x5.name, x5.model"
   ]
  },
  {
   "cell_type": "code",
   "execution_count": 169,
   "metadata": {},
   "outputs": [
    {
     "data": {
      "text/plain": [
       "('BMW', 'M30 Perfomance')"
      ]
     },
     "execution_count": 169,
     "metadata": {},
     "output_type": "execute_result"
    }
   ],
   "source": [
    "m30.name, m30.model"
   ]
  },
  {
   "cell_type": "markdown",
   "metadata": {},
   "source": [
    "### Задание 12.06\n",
    "\n",
    "Добавить в класс Pet атрибут counter = 0, значение которого увеличивается при создании любого объекта.\n",
    "\n",
    "Сделать атрибут counter приватным."
   ]
  },
  {
   "cell_type": "code",
   "execution_count": 269,
   "metadata": {},
   "outputs": [],
   "source": [
    "class Pet:\n",
    "    counter = 0\n",
    "    \n",
    "    def __init__(self):\n",
    "        Pet.counter += 1\n",
    "        \n",
    "    def run(self, name):\n",
    "        self.name = name\n",
    "\n",
    "\n",
    "class Dog(Pet):\n",
    "    pass\n",
    "\n",
    "\n",
    "class Cat(Pet):\n",
    "    pass"
   ]
  },
  {
   "cell_type": "code",
   "execution_count": 270,
   "metadata": {},
   "outputs": [],
   "source": [
    "dog = Dog()\n",
    "cat = Cat()"
   ]
  },
  {
   "cell_type": "code",
   "execution_count": 271,
   "metadata": {},
   "outputs": [
    {
     "name": "stdout",
     "output_type": "stream",
     "text": [
      "2\n"
     ]
    }
   ],
   "source": [
    "print(Pet.counter)"
   ]
  },
  {
   "cell_type": "code",
   "execution_count": 259,
   "metadata": {},
   "outputs": [],
   "source": [
    "class Car:\n",
    "    name = None\n",
    "    \n",
    "\n",
    "class BMW(Car):\n",
    "    pass\n",
    "\n",
    "\n",
    "class Solaris(Car):\n",
    "    pass"
   ]
  },
  {
   "cell_type": "code",
   "execution_count": 260,
   "metadata": {},
   "outputs": [],
   "source": [
    "car1 = Solaris()\n",
    "bmw = BMW()"
   ]
  },
  {
   "cell_type": "code",
   "execution_count": 261,
   "metadata": {},
   "outputs": [],
   "source": [
    "car1.name = \"Default\""
   ]
  },
  {
   "cell_type": "code",
   "execution_count": 262,
   "metadata": {},
   "outputs": [
    {
     "data": {
      "text/plain": [
       "('Default', None)"
      ]
     },
     "execution_count": 262,
     "metadata": {},
     "output_type": "execute_result"
    }
   ],
   "source": [
    "car1.name, Solaris.name"
   ]
  }
 ],
 "metadata": {
  "kernelspec": {
   "display_name": "Python 3",
   "language": "python",
   "name": "python3"
  },
  "language_info": {
   "codemirror_mode": {
    "name": "ipython",
    "version": 3
   },
   "file_extension": ".py",
   "mimetype": "text/x-python",
   "name": "python",
   "nbconvert_exporter": "python",
   "pygments_lexer": "ipython3",
   "version": "3.8.3"
  }
 },
 "nbformat": 4,
 "nbformat_minor": 4
}
