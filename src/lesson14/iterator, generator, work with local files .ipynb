{
 "cells": [
  {
   "cell_type": "markdown",
   "metadata": {},
   "source": [
    "# Итератор, Генератор, работа с файловой системой\n",
    "\n",
    "Denis Tamkovich"
   ]
  },
  {
   "cell_type": "markdown",
   "metadata": {},
   "source": [
    "### Итератор\n",
    "\n",
    "- Считывание элементов один за другим - итерирование. \n",
    "- Список - итерируемый объект.\n",
    "- Всё, к чему можно применить цикл «for... in...», является итерируемым объектом: списки, строки, файлы"
   ]
  },
  {
   "cell_type": "code",
   "execution_count": null,
   "metadata": {},
   "outputs": [],
   "source": [
    "mylist1 = [1, 2, 3]\n",
    "for i in mylist1:\n",
    "    print(i)"
   ]
  },
  {
   "cell_type": "code",
   "execution_count": null,
   "metadata": {},
   "outputs": [],
   "source": [
    "mylist2 = [x*x for x in range(3)]\n",
    "for i in mylist2 :\n",
    "    print(i)"
   ]
  },
  {
   "cell_type": "markdown",
   "metadata": {},
   "source": [
    "### Генератор\n",
    "\n",
    "- Генераторы - итерируемые объекты, которые можно прочитать только один раз. \n",
    "- Генераторы не хранят значения в памяти, а генерируют их на лету."
   ]
  },
  {
   "cell_type": "code",
   "execution_count": null,
   "metadata": {},
   "outputs": [],
   "source": [
    "mygenerator = (x*x for x in range(3))\n",
    "for i in mygenerator :\n",
    "    print(i)"
   ]
  },
  {
   "cell_type": "markdown",
   "metadata": {},
   "source": [
    "### yield\n",
    "\n",
    "Yield - ключевое слово, которое используется вместо return и возвращает объект генератора.\n",
    "Генераторы удобно использовать, когда известно что функция вернет большой набор значений, который надо прочитать только один раз. \n",
    "\n",
    "Когда вызывается функция, код внутри тела функции не исполняется. Функция только возвращает объект-генератор. \n",
    "Код будет вызываться каждый раз, когда for обращается к генератору.\n",
    "\n",
    "В первый запуск функции, она будет исполняться от начала до того момента, когда она наткнется на yield — тогда она вернет первое значение из цикла. На каждый следующий вызов будет происходить ещё одна итерация написанного вами цикла, возвращаться будет следующее значение — и так пока значения не кончатся.\n",
    "\n",
    "Генератор считается пустым, как только при исполнении кода функции не встречается yield. Это может случиться из-за конца цикла, или же если не выполняется какое-то из условий «if/else»."
   ]
  },
  {
   "cell_type": "code",
   "execution_count": null,
   "metadata": {},
   "outputs": [],
   "source": [
    "def create_generator() :\n",
    "    mylist = range(3)\n",
    "    for i in mylist:\n",
    "        yield i*i"
   ]
  },
  {
   "cell_type": "code",
   "execution_count": null,
   "metadata": {},
   "outputs": [],
   "source": [
    "mygenerator = create_generator()\n",
    "print(mygenerator)\n",
    "# <generator object createGenerator at 0x000000>\n",
    "for i in mygenerator:\n",
    "    print(i)"
   ]
  },
  {
   "cell_type": "markdown",
   "metadata": {},
   "source": [
    "### next\n",
    "\n",
    "Для обращения к следующему элементу генератора используется функция next"
   ]
  },
  {
   "cell_type": "code",
   "execution_count": 3,
   "metadata": {},
   "outputs": [],
   "source": [
    "def my_animal_generator():\n",
    "    yield 'корова'\n",
    "    for animal in ['кот', 'собака', 'медведь']:\n",
    "        yield animal\n",
    "    yield 'кит'"
   ]
  },
  {
   "cell_type": "code",
   "execution_count": 4,
   "metadata": {},
   "outputs": [
    {
     "name": "stdout",
     "output_type": "stream",
     "text": [
      "корова\n",
      "---------\n"
     ]
    }
   ],
   "source": [
    "my_generator = my_animal_generator()\n",
    "print(next(my_generator))\n",
    "print('---------')"
   ]
  },
  {
   "cell_type": "code",
   "execution_count": 6,
   "metadata": {},
   "outputs": [
    {
     "name": "stdout",
     "output_type": "stream",
     "text": [
      "кот\n",
      "собака\n",
      "медведь\n",
      "кит\n"
     ]
    }
   ],
   "source": [
    "for animal in my_generator:\n",
    "    print(animal)\n",
    "# корова кот собака медведь кит"
   ]
  },
  {
   "cell_type": "markdown",
   "metadata": {},
   "source": [
    "### Задание 14.01\n",
    "\n",
    "- Создать бесконечный генератор случайных чисел. "
   ]
  },
  {
   "cell_type": "code",
   "execution_count": 10,
   "metadata": {},
   "outputs": [],
   "source": [
    "from random import randint"
   ]
  },
  {
   "cell_type": "code",
   "execution_count": 11,
   "metadata": {},
   "outputs": [],
   "source": [
    "def gen():\n",
    "    # some while or for loop\n",
    "        yield randint(0, 10)"
   ]
  },
  {
   "cell_type": "code",
   "execution_count": 13,
   "metadata": {},
   "outputs": [],
   "source": [
    "my_gen = gen()"
   ]
  },
  {
   "cell_type": "code",
   "execution_count": null,
   "metadata": {},
   "outputs": [],
   "source": [
    "print(next(my_gen))\n",
    "print(next(my_gen))\n",
    "print(next(my_gen))\n",
    "print(next(my_gen))\n",
    "print(next(my_gen))"
   ]
  },
  {
   "cell_type": "markdown",
   "metadata": {},
   "source": [
    "### Задание 14.02\n",
    "\n",
    "Модифицировать генератор, чтобы генератор принимал диапазон случайных чисел и чтобы последующее случайное число лежало в диапазоне смещенном на n.\n",
    "\n",
    "Пример: a = 1, b = 10, diff = 10\n",
    "\n",
    "1. 1- 10\n",
    "2. 11-20\n",
    "3. ...\n",
    "4. N +10 - M + 10"
   ]
  },
  {
   "cell_type": "code",
   "execution_count": null,
   "metadata": {},
   "outputs": [],
   "source": [
    "def gen(a, b, diff):\n",
    "    n, m = a, b\n",
    "    # some while or for loop\n",
    "        yield randint(0, 10)\n",
    "        n, m = # увеличить каждое число на 10"
   ]
  },
  {
   "cell_type": "code",
   "execution_count": null,
   "metadata": {},
   "outputs": [],
   "source": [
    "my_gen = gen(a=1, b=10, diff=10)"
   ]
  },
  {
   "cell_type": "code",
   "execution_count": null,
   "metadata": {},
   "outputs": [],
   "source": [
    "print(next(my_gen))\n",
    "print(next(my_gen))\n",
    "print(next(my_gen))\n",
    "print(next(my_gen))\n",
    "print(next(my_gen))"
   ]
  },
  {
   "cell_type": "markdown",
   "metadata": {},
   "source": [
    "### Создание скриптов\n",
    "\n",
    "- При запуске программ на python из терминала с передачей аргументов \n",
    "- python [filename].py arg1 arg2 \n",
    "- sys.argv содержит все переданные аргументы. В качестве первого аргумента\n",
    "выступает путь по которому был запущен\n",
    "скрипт"
   ]
  },
  {
   "cell_type": "code",
   "execution_count": 18,
   "metadata": {},
   "outputs": [
    {
     "name": "stdout",
     "output_type": "stream",
     "text": [
      "['/Users/denistamkovich/opt/anaconda3/lib/python3.8/site-packages/ipykernel_launcher.py', '-f', '/Users/denistamkovich/Library/Jupyter/runtime/kernel-0d4f6bbb-5365-4e56-9f9b-93709a3b1855.json']\n"
     ]
    }
   ],
   "source": [
    "import sys\n",
    "print(sys.argv)"
   ]
  },
  {
   "cell_type": "code",
   "execution_count": null,
   "metadata": {},
   "outputs": [],
   "source": [
    "if 'denis' in sys.argv:\n",
    "    print('Hello, denis')\n",
    "else:\n",
    "    print('Hello, Guest')"
   ]
  },
  {
   "cell_type": "markdown",
   "metadata": {},
   "source": [
    "### Задание 14.03\n",
    "\n",
    "Создать скрипт, который при запуске принимает неопределенное количество аргументов и считает сумму тех из них, что являются цифрами.\n",
    "\n",
    "Пример:\n",
    " - python test.py 1 2 3 4 a b 5 6 --> 21"
   ]
  },
  {
   "cell_type": "code",
   "execution_count": null,
   "metadata": {},
   "outputs": [],
   "source": []
  },
  {
   "cell_type": "code",
   "execution_count": null,
   "metadata": {},
   "outputs": [],
   "source": []
  },
  {
   "cell_type": "markdown",
   "metadata": {},
   "source": [
    "### argparse\n",
    "\n",
    "argparse - библиотека упрощающая работу с входными аргументами скрипта."
   ]
  },
  {
   "cell_type": "code",
   "execution_count": null,
   "metadata": {},
   "outputs": [],
   "source": [
    "print(sys.argv)\n",
    "parser = argparse.ArgumentParser()\n",
    "parser.add_argument('-fn', '--first-name', required=True)\n",
    "parser.add_argument('-ln', '--last-name', required=True)\n",
    "parser.add_argument('echo')\n",
    "args = parser.parse_args()\n",
    "\n",
    "\n",
    "print(args)\n",
    "print('First name:', args.first_name)\n",
    "print('Last name:', args.last_name)\n",
    "print('echo:', args.echo)"
   ]
  },
  {
   "cell_type": "markdown",
   "metadata": {},
   "source": [
    "python test.py -fn Denis --last-name Tamkovich test\n",
    "\n",
    "или\n",
    "\n",
    "python test.py test -fn=Denis --last-name=Tamkovich"
   ]
  },
  {
   "cell_type": "markdown",
   "metadata": {},
   "source": [
    "### Задание 14.04\n",
    "\n",
    "Создать скрипт, который принимает имя фамилию и возраст и дописывает их в csv/txt файл"
   ]
  },
  {
   "cell_type": "code",
   "execution_count": null,
   "metadata": {},
   "outputs": [],
   "source": []
  },
  {
   "cell_type": "code",
   "execution_count": null,
   "metadata": {},
   "outputs": [],
   "source": []
  },
  {
   "cell_type": "markdown",
   "metadata": {},
   "source": [
    "### Взаимодействие с файловой системой\n",
    "\n",
    "os - библиотека для работы с операционной системой."
   ]
  },
  {
   "cell_type": "code",
   "execution_count": 22,
   "metadata": {},
   "outputs": [],
   "source": [
    "import os\n",
    "\n",
    "file_path = os.path.realpath('__init__.py')  # __file__\n",
    "dir_name = os.path.dirname(file_path)\n",
    "os.mkdir('path to dir')"
   ]
  },
  {
   "cell_type": "code",
   "execution_count": 24,
   "metadata": {},
   "outputs": [
    {
     "data": {
      "text/plain": [
       "'/Users/denistamkovich/dev/tms-python-summer/src/lesson14/lesson14'"
      ]
     },
     "execution_count": 24,
     "metadata": {},
     "output_type": "execute_result"
    }
   ],
   "source": [
    "os.path.realpath('path to dir')"
   ]
  },
  {
   "cell_type": "markdown",
   "metadata": {},
   "source": [
    "### Задание 14.05\n",
    "\n",
    "Создать скрипт, который принимает имя папки и создает ее рядом со скриптом"
   ]
  },
  {
   "cell_type": "code",
   "execution_count": null,
   "metadata": {},
   "outputs": [],
   "source": [
    "parser = argparse.ArgumentParser()\n",
    "parser.add_argument('-fn', '--forder-name', required=True)\n",
    "parser.add_argument('echo')\n",
    "args = parser.parse_args()\n",
    "\n",
    "print('Folder name:', args.folder_name)\n",
    "\n",
    "file_path = os.path.realpath()\n",
    "os.mkdir(args.folder_name)"
   ]
  },
  {
   "cell_type": "code",
   "execution_count": null,
   "metadata": {},
   "outputs": [],
   "source": []
  },
  {
   "cell_type": "markdown",
   "metadata": {},
   "source": [
    "### Задание 14.06\n",
    "\n",
    "Дописать скрипт. Программа принимает имя папки и имя файла. Создает папку и создает в ней файл."
   ]
  },
  {
   "cell_type": "code",
   "execution_count": null,
   "metadata": {},
   "outputs": [],
   "source": []
  },
  {
   "cell_type": "code",
   "execution_count": null,
   "metadata": {},
   "outputs": [],
   "source": []
  },
  {
   "cell_type": "code",
   "execution_count": null,
   "metadata": {},
   "outputs": [],
   "source": []
  },
  {
   "cell_type": "code",
   "execution_count": null,
   "metadata": {},
   "outputs": [],
   "source": []
  }
 ],
 "metadata": {
  "kernelspec": {
   "display_name": "Python 3",
   "language": "python",
   "name": "python3"
  },
  "language_info": {
   "codemirror_mode": {
    "name": "ipython",
    "version": 3
   },
   "file_extension": ".py",
   "mimetype": "text/x-python",
   "name": "python",
   "nbconvert_exporter": "python",
   "pygments_lexer": "ipython3",
   "version": "3.8.3"
  }
 },
 "nbformat": 4,
 "nbformat_minor": 4
}
