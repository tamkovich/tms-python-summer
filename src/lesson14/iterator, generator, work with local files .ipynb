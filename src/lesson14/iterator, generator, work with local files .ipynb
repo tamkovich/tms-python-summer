{
 "cells": [
  {
   "cell_type": "markdown",
   "metadata": {},
   "source": [
    "# Итератор, Генератор, работа с файловой системой\n",
    "\n",
    "Denis Tamkovich"
   ]
  },
  {
   "cell_type": "markdown",
   "metadata": {},
   "source": [
    "### Итератор\n",
    "\n",
    "- Считывание элементов один за другим - итерирование. \n",
    "- Список - итерируемый объект.\n",
    "- Всё, к чему можно применить цикл «for... in...», является итерируемым объектом: списки, строки, файлы"
   ]
  },
  {
   "cell_type": "code",
   "execution_count": 1,
   "metadata": {},
   "outputs": [
    {
     "name": "stdout",
     "output_type": "stream",
     "text": [
      "1\n",
      "2\n",
      "3\n"
     ]
    }
   ],
   "source": [
    "mylist1 = [1, 2, 3]\n",
    "for i in mylist1:\n",
    "    print(i)"
   ]
  },
  {
   "cell_type": "code",
   "execution_count": 2,
   "metadata": {},
   "outputs": [
    {
     "name": "stdout",
     "output_type": "stream",
     "text": [
      "0\n",
      "1\n",
      "4\n"
     ]
    }
   ],
   "source": [
    "mylist2 = [x*x for x in range(3)]\n",
    "for i in mylist2 :\n",
    "    print(i)"
   ]
  },
  {
   "cell_type": "markdown",
   "metadata": {},
   "source": [
    "### Генератор\n",
    "\n",
    "- Генераторы - итерируемые объекты, которые можно прочитать только один раз. \n",
    "- Генераторы не хранят значения в памяти, а генерируют их на лету."
   ]
  },
  {
   "cell_type": "code",
   "execution_count": 3,
   "metadata": {},
   "outputs": [
    {
     "name": "stdout",
     "output_type": "stream",
     "text": [
      "0\n",
      "1\n",
      "4\n"
     ]
    }
   ],
   "source": [
    "mygenerator = (x*x for x in range(3))\n",
    "for i in mygenerator:\n",
    "    print(i)"
   ]
  },
  {
   "cell_type": "markdown",
   "metadata": {},
   "source": [
    "### yield\n",
    "\n",
    "Yield - ключевое слово, которое используется вместо return и возвращает объект генератора.\n",
    "Генераторы удобно использовать, когда известно что функция вернет большой набор значений, который надо прочитать только один раз. \n",
    "\n",
    "Когда вызывается функция, код внутри тела функции не исполняется. Функция только возвращает объект-генератор. \n",
    "Код будет вызываться каждый раз, когда for обращается к генератору.\n",
    "\n",
    "В первый запуск функции, она будет исполняться от начала до того момента, когда она наткнется на yield — тогда она вернет первое значение из цикла. На каждый следующий вызов будет происходить ещё одна итерация написанного вами цикла, возвращаться будет следующее значение — и так пока значения не кончатся.\n",
    "\n",
    "Генератор считается пустым, как только при исполнении кода функции не встречается yield. Это может случиться из-за конца цикла, или же если не выполняется какое-то из условий «if/else»."
   ]
  },
  {
   "cell_type": "code",
   "execution_count": 7,
   "metadata": {},
   "outputs": [],
   "source": [
    "def create_generator():\n",
    "    mylist = range(3)\n",
    "    for i in mylist:\n",
    "        yield i*i"
   ]
  },
  {
   "cell_type": "code",
   "execution_count": 8,
   "metadata": {},
   "outputs": [
    {
     "name": "stdout",
     "output_type": "stream",
     "text": [
      "<generator object create_generator at 0x7fb5f2a620b0>\n"
     ]
    }
   ],
   "source": [
    "mygenerator = create_generator()\n",
    "print(mygenerator)\n",
    "# <generator object createGenerator at 0x000000>"
   ]
  },
  {
   "cell_type": "code",
   "execution_count": 6,
   "metadata": {},
   "outputs": [
    {
     "name": "stdout",
     "output_type": "stream",
     "text": [
      "0\n",
      "1\n",
      "4\n"
     ]
    }
   ],
   "source": [
    "for i in mygenerator:\n",
    "    print(i)"
   ]
  },
  {
   "cell_type": "code",
   "execution_count": 12,
   "metadata": {},
   "outputs": [
    {
     "ename": "StopIteration",
     "evalue": "",
     "output_type": "error",
     "traceback": [
      "\u001b[0;31m---------------------------------------------------------------------------\u001b[0m",
      "\u001b[0;31mStopIteration\u001b[0m                             Traceback (most recent call last)",
      "\u001b[0;32m<ipython-input-12-c1c3c7e954e0>\u001b[0m in \u001b[0;36m<module>\u001b[0;34m\u001b[0m\n\u001b[0;32m----> 1\u001b[0;31m \u001b[0mnext\u001b[0m\u001b[0;34m(\u001b[0m\u001b[0mmygenerator\u001b[0m\u001b[0;34m)\u001b[0m\u001b[0;34m\u001b[0m\u001b[0;34m\u001b[0m\u001b[0m\n\u001b[0m",
      "\u001b[0;31mStopIteration\u001b[0m: "
     ]
    }
   ],
   "source": [
    "next(mygenerator)"
   ]
  },
  {
   "cell_type": "markdown",
   "metadata": {},
   "source": [
    "### next\n",
    "\n",
    "Для обращения к следующему элементу генератора используется функция next"
   ]
  },
  {
   "cell_type": "code",
   "execution_count": 13,
   "metadata": {},
   "outputs": [],
   "source": [
    "def my_animal_generator():\n",
    "    yield 'корова'\n",
    "    for animal in ['кот', 'собака', 'медведь']:\n",
    "        yield animal\n",
    "    yield 'кит'"
   ]
  },
  {
   "cell_type": "code",
   "execution_count": 14,
   "metadata": {},
   "outputs": [
    {
     "name": "stdout",
     "output_type": "stream",
     "text": [
      "корова\n",
      "---------\n"
     ]
    }
   ],
   "source": [
    "my_generator = my_animal_generator()\n",
    "print(next(my_generator))\n",
    "print('---------')"
   ]
  },
  {
   "cell_type": "code",
   "execution_count": 15,
   "metadata": {
    "scrolled": false
   },
   "outputs": [
    {
     "name": "stdout",
     "output_type": "stream",
     "text": [
      "кот\n",
      "собака\n",
      "медведь\n",
      "кит\n"
     ]
    }
   ],
   "source": [
    "for animal in my_generator:\n",
    "    print(animal)\n",
    "# корова кот собака медведь кит"
   ]
  },
  {
   "cell_type": "code",
   "execution_count": 20,
   "metadata": {},
   "outputs": [],
   "source": [
    "def test():\n",
    "    return [1, 2, 3]"
   ]
  },
  {
   "cell_type": "code",
   "execution_count": 21,
   "metadata": {},
   "outputs": [
    {
     "data": {
      "text/plain": [
       "[1, 2, 3]"
      ]
     },
     "execution_count": 21,
     "metadata": {},
     "output_type": "execute_result"
    }
   ],
   "source": [
    "test()"
   ]
  },
  {
   "cell_type": "code",
   "execution_count": 26,
   "metadata": {},
   "outputs": [],
   "source": [
    "def test2():\n",
    "    yield 'red'\n",
    "    yield 'purple'\n",
    "    yield 'green'\n",
    "    yield [1, 2, 3]"
   ]
  },
  {
   "cell_type": "code",
   "execution_count": 27,
   "metadata": {},
   "outputs": [
    {
     "data": {
      "text/plain": [
       "'red'"
      ]
     },
     "execution_count": 27,
     "metadata": {},
     "output_type": "execute_result"
    }
   ],
   "source": [
    "func = test2()\n",
    "next(func)"
   ]
  },
  {
   "cell_type": "code",
   "execution_count": 31,
   "metadata": {},
   "outputs": [
    {
     "ename": "StopIteration",
     "evalue": "",
     "output_type": "error",
     "traceback": [
      "\u001b[0;31m---------------------------------------------------------------------------\u001b[0m",
      "\u001b[0;31mStopIteration\u001b[0m                             Traceback (most recent call last)",
      "\u001b[0;32m<ipython-input-31-c79afc12ef62>\u001b[0m in \u001b[0;36m<module>\u001b[0;34m\u001b[0m\n\u001b[0;32m----> 1\u001b[0;31m \u001b[0mnext\u001b[0m\u001b[0;34m(\u001b[0m\u001b[0mfunc\u001b[0m\u001b[0;34m)\u001b[0m\u001b[0;34m\u001b[0m\u001b[0;34m\u001b[0m\u001b[0m\n\u001b[0m",
      "\u001b[0;31mStopIteration\u001b[0m: "
     ]
    }
   ],
   "source": [
    "next(func)"
   ]
  },
  {
   "cell_type": "markdown",
   "metadata": {},
   "source": [
    "### Задание 14.01\n",
    "\n",
    "- Создать бесконечный генератор случайных чисел. "
   ]
  },
  {
   "cell_type": "code",
   "execution_count": 16,
   "metadata": {},
   "outputs": [],
   "source": [
    "from random import randint"
   ]
  },
  {
   "cell_type": "code",
   "execution_count": 17,
   "metadata": {},
   "outputs": [],
   "source": [
    "def gen():\n",
    "    while True:\n",
    "        yield randint(0, 10)"
   ]
  },
  {
   "cell_type": "code",
   "execution_count": 18,
   "metadata": {},
   "outputs": [],
   "source": [
    "my_gen = gen()"
   ]
  },
  {
   "cell_type": "code",
   "execution_count": 19,
   "metadata": {},
   "outputs": [
    {
     "name": "stdout",
     "output_type": "stream",
     "text": [
      "8\n",
      "3\n",
      "3\n",
      "6\n",
      "8\n"
     ]
    }
   ],
   "source": [
    "print(next(my_gen))\n",
    "print(next(my_gen))\n",
    "print(next(my_gen))\n",
    "print(next(my_gen))\n",
    "print(next(my_gen))"
   ]
  },
  {
   "cell_type": "markdown",
   "metadata": {},
   "source": [
    "### Задание 14.02\n",
    "\n",
    "Модифицировать генератор, чтобы генератор принимал диапазон случайных чисел и чтобы последующее случайное число лежало в диапазоне смещенном на n.\n",
    "\n",
    "Пример: a = 1, b = 10, diff = 10\n",
    "\n",
    "1. 1- 10\n",
    "2. 11-20\n",
    "3. ...\n",
    "4. N +10 - M + 10"
   ]
  },
  {
   "cell_type": "code",
   "execution_count": 32,
   "metadata": {},
   "outputs": [],
   "source": [
    "def gen(a, b, diff):\n",
    "    while True:\n",
    "        yield randint(a, b)\n",
    "        a += diff \n",
    "        b += diff"
   ]
  },
  {
   "cell_type": "code",
   "execution_count": 41,
   "metadata": {},
   "outputs": [],
   "source": [
    "my_gen = gen(a=1, b=10, diff=10)"
   ]
  },
  {
   "cell_type": "code",
   "execution_count": 46,
   "metadata": {},
   "outputs": [
    {
     "name": "stdout",
     "output_type": "stream",
     "text": [
      "202\n",
      "220\n",
      "221\n",
      "238\n",
      "248\n"
     ]
    }
   ],
   "source": [
    "print(next(my_gen))\n",
    "print(next(my_gen))\n",
    "print(next(my_gen))\n",
    "print(next(my_gen))\n",
    "print(next(my_gen))"
   ]
  },
  {
   "cell_type": "markdown",
   "metadata": {},
   "source": [
    "### Создание скриптов\n",
    "\n",
    "- При запуске программ на python из терминала с передачей аргументов \n",
    "- python [filename].py arg1 arg2 \n",
    "- sys.argv содержит все переданные аргументы. В качестве первого аргумента\n",
    "выступает путь по которому был запущен\n",
    "скрипт"
   ]
  },
  {
   "cell_type": "code",
   "execution_count": 47,
   "metadata": {},
   "outputs": [
    {
     "name": "stdout",
     "output_type": "stream",
     "text": [
      "['/Users/denistamkovich/opt/anaconda3/lib/python3.8/site-packages/ipykernel_launcher.py', '-f', '/Users/denistamkovich/Library/Jupyter/runtime/kernel-f06c030b-330d-42ad-b1ec-d3b397daffbc.json']\n"
     ]
    }
   ],
   "source": [
    "import sys\n",
    "print(sys.argv)"
   ]
  },
  {
   "cell_type": "code",
   "execution_count": 48,
   "metadata": {},
   "outputs": [
    {
     "name": "stdout",
     "output_type": "stream",
     "text": [
      "Hello, Guest\n"
     ]
    }
   ],
   "source": [
    "if 'denis' in sys.argv:\n",
    "    print('Hello, denis')\n",
    "else:\n",
    "    print('Hello, Guest')"
   ]
  },
  {
   "cell_type": "markdown",
   "metadata": {},
   "source": [
    "### Задание 14.03\n",
    "\n",
    "Создать скрипт, который при запуске принимает неопределенное количество аргументов и считает сумму тех из них, что являются цифрами.\n",
    "\n",
    "Пример:\n",
    " - python test.py 1 2 3 4 a b 5 6 \n",
    " \n",
    " --> 21"
   ]
  },
  {
   "cell_type": "code",
   "execution_count": null,
   "metadata": {},
   "outputs": [],
   "source": [
    "import sys\n",
    "print(sys.argv)"
   ]
  },
  {
   "cell_type": "code",
   "execution_count": null,
   "metadata": {},
   "outputs": [],
   "source": [
    "res = 0\n",
    "\n",
    "for element in sys.argv:\n",
    "    if element.isdigit():\n",
    "        res += int(element)\n",
    "\n",
    "\n",
    "print(res)"
   ]
  },
  {
   "cell_type": "markdown",
   "metadata": {},
   "source": [
    "### argparse\n",
    "\n",
    "argparse - библиотека упрощающая работу с входными аргументами скрипта"
   ]
  },
  {
   "cell_type": "code",
   "execution_count": null,
   "metadata": {},
   "outputs": [],
   "source": [
    "print(sys.argv)\n",
    "parser = argparse.ArgumentParser()\n",
    "parser.add_argument('-fn', '--first-name', required=True)\n",
    "parser.add_argument('-ln', '--last-name', required=True)\n",
    "parser.add_argument('echo')\n",
    "args = parser.parse_args()\n",
    "\n",
    "\n",
    "print(args)\n",
    "print('First name:', args.first_name)\n",
    "print('Last name:', args.last_name)\n",
    "print('echo:', args.echo)"
   ]
  },
  {
   "cell_type": "markdown",
   "metadata": {},
   "source": [
    "python test.py -fn Denis --last-name Tamkovich test\n",
    "\n",
    "или\n",
    "\n",
    "python test.py test -fn=Denis --last-name=Tamkovich"
   ]
  },
  {
   "cell_type": "markdown",
   "metadata": {},
   "source": [
    "### Задание 14.04\n",
    "\n",
    "Создать скрипт, который принимает имя фамилию и возраст и дописывает их в csv/txt файл"
   ]
  },
  {
   "cell_type": "code",
   "execution_count": null,
   "metadata": {},
   "outputs": [],
   "source": [
    "import argparse\n",
    "\n",
    "parser = argparse.ArgumentParser()\n",
    "parser.add_argument('-fn', '--first-name', required=True)\n",
    "parser.add_argument('-ln', '--last-name', required=True)\n",
    "args = parser.parse_args()\n",
    "\n",
    "\n",
    "with open('result.txt', 'w') as f:\n",
    "    f.write(args.first_name)\n",
    "    f.write(args.last_name)"
   ]
  },
  {
   "cell_type": "code",
   "execution_count": null,
   "metadata": {},
   "outputs": [],
   "source": []
  },
  {
   "cell_type": "markdown",
   "metadata": {},
   "source": [
    "### Взаимодействие с файловой системой\n",
    "\n",
    "os - библиотека для работы с операционной системой."
   ]
  },
  {
   "cell_type": "code",
   "execution_count": 22,
   "metadata": {},
   "outputs": [],
   "source": [
    "import os\n",
    "\n",
    "file_path = os.path.realpath(__file__)  #  __init__.py\n",
    "dir_name = os.path.dirname(file_path)\n",
    "os.mkdir('path to dir')"
   ]
  },
  {
   "cell_type": "code",
   "execution_count": 24,
   "metadata": {},
   "outputs": [
    {
     "data": {
      "text/plain": [
       "'/Users/denistamkovich/dev/tms-python-summer/src/lesson14/lesson14'"
      ]
     },
     "execution_count": 24,
     "metadata": {},
     "output_type": "execute_result"
    }
   ],
   "source": [
    "os.path.realpath('path to dir')"
   ]
  },
  {
   "cell_type": "markdown",
   "metadata": {},
   "source": [
    "### Задание 14.05\n",
    "\n",
    "Создать скрипт, который принимает имя папки и создает ее рядом со скриптом"
   ]
  },
  {
   "cell_type": "code",
   "execution_count": null,
   "metadata": {},
   "outputs": [],
   "source": [
    "parser = argparse.ArgumentParser()\n",
    "parser.add_argument('-fn', '--forder-name', required=True)\n",
    "parser.add_argument('echo')\n",
    "args = parser.parse_args()\n",
    "\n",
    "print('Folder name:', args.folder_name)\n",
    "\n",
    "file_path = os.path.realpath()\n",
    "os.mkdir(args.folder_name)"
   ]
  },
  {
   "cell_type": "code",
   "execution_count": null,
   "metadata": {},
   "outputs": [],
   "source": []
  },
  {
   "cell_type": "markdown",
   "metadata": {},
   "source": [
    "### Задание 14.06\n",
    "\n",
    "Дописать скрипт. Программа принимает имя папки и имя файла. Создает папку и создает в ней файл."
   ]
  },
  {
   "cell_type": "code",
   "execution_count": null,
   "metadata": {},
   "outputs": [],
   "source": []
  },
  {
   "cell_type": "code",
   "execution_count": null,
   "metadata": {},
   "outputs": [],
   "source": []
  },
  {
   "cell_type": "code",
   "execution_count": null,
   "metadata": {},
   "outputs": [],
   "source": []
  },
  {
   "cell_type": "code",
   "execution_count": null,
   "metadata": {},
   "outputs": [],
   "source": []
  }
 ],
 "metadata": {
  "kernelspec": {
   "display_name": "Python 3",
   "language": "python",
   "name": "python3"
  },
  "language_info": {
   "codemirror_mode": {
    "name": "ipython",
    "version": 3
   },
   "file_extension": ".py",
   "mimetype": "text/x-python",
   "name": "python",
   "nbconvert_exporter": "python",
   "pygments_lexer": "ipython3",
   "version": "3.8.3"
  }
 },
 "nbformat": 4,
 "nbformat_minor": 4
}
