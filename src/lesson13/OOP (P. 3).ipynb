{
 "cells": [
  {
   "cell_type": "markdown",
   "metadata": {},
   "source": [
    "# Объектно-ориентированное программирование (ООП) (Часть 3). Работа с модулями\n",
    "\n",
    "**Denis Tamkovich**"
   ]
  },
  {
   "cell_type": "markdown",
   "metadata": {},
   "source": [
    "### @classmethod"
   ]
  },
  {
   "cell_type": "code",
   "execution_count": 4,
   "metadata": {},
   "outputs": [],
   "source": [
    "class Pet:\n",
    "    VOICE = None\n",
    "    \n",
    "    @classmethod\n",
    "    def voice(cls):\n",
    "        print(cls.VOICE)\n",
    "        \n",
    "\n",
    "\n",
    "class Cat(Pet):\n",
    "    VOICE = \"Meow\"\n"
   ]
  },
  {
   "cell_type": "code",
   "execution_count": 5,
   "metadata": {},
   "outputs": [
    {
     "name": "stdout",
     "output_type": "stream",
     "text": [
      "Meow\n"
     ]
    }
   ],
   "source": [
    "cat = Cat()\n",
    "cat.voice()"
   ]
  },
  {
   "cell_type": "markdown",
   "metadata": {},
   "source": [
    "### Задание 13.01\n",
    "\n",
    "Создать метод класса get_counter. Создать три объекта\n",
    "класса. Вызвать через класс метод get_counter."
   ]
  },
  {
   "cell_type": "code",
   "execution_count": 18,
   "metadata": {},
   "outputs": [],
   "source": [
    "class Count:\n",
    "    \n",
    "    __COUNTER = 0\n",
    "    \n",
    "    def __init__(self):\n",
    "        # <...>.__COUNTER += 1\n",
    "    \n",
    "    def get_counter(cls):\n",
    "        ### your code"
   ]
  },
  {
   "cell_type": "code",
   "execution_count": 19,
   "metadata": {},
   "outputs": [
    {
     "data": {
      "text/plain": [
       "3"
      ]
     },
     "execution_count": 19,
     "metadata": {},
     "output_type": "execute_result"
    }
   ],
   "source": [
    "Count()\n",
    "Count()\n",
    "Count()\n",
    "Count.get_counter()"
   ]
  },
  {
   "cell_type": "markdown",
   "metadata": {},
   "source": [
    "### @staticmethod"
   ]
  },
  {
   "cell_type": "code",
   "execution_count": null,
   "metadata": {},
   "outputs": [],
   "source": [
    "class Car:\n",
    "    __last_model = None\n",
    "    \n",
    "    def __init__(self, model):\n",
    "        self.model = model\n",
    "        Car.__last_model = model\n",
    "    \n",
    "    @staticmethod\n",
    "    def is_model_ok(model):\n",
    "        return len(model) > 3:"
   ]
  },
  {
   "cell_type": "code",
   "execution_count": null,
   "metadata": {},
   "outputs": [],
   "source": [
    "print(Car.is_model_ok( 'abc'))"
   ]
  },
  {
   "cell_type": "markdown",
   "metadata": {},
   "source": [
    "### Задание 13.02\n",
    "\n",
    "Создать статичный метод add_numbers для класса Math. Метод возвращает сумму двух переданных чисел."
   ]
  },
  {
   "cell_type": "code",
   "execution_count": 20,
   "metadata": {},
   "outputs": [],
   "source": [
    "class Mathematics:\n",
    "\n",
    "    def add_numbers(x, y):\n",
    "        ### your code"
   ]
  },
  {
   "cell_type": "code",
   "execution_count": null,
   "metadata": {},
   "outputs": [],
   "source": [
    "Mathematics.add_numbers(1, 2)  # 3"
   ]
  },
  {
   "cell_type": "markdown",
   "metadata": {},
   "source": [
    "### Создание собственных ошибок"
   ]
  },
  {
   "cell_type": "code",
   "execution_count": null,
   "metadata": {},
   "outputs": [],
   "source": [
    "class MyException(Exception):\n",
    "    def __init__(self, message='AAA!!'):\n",
    "        super().__init__(message)"
   ]
  },
  {
   "cell_type": "code",
   "execution_count": null,
   "metadata": {},
   "outputs": [],
   "source": [
    "raise MyException"
   ]
  },
  {
   "cell_type": "markdown",
   "metadata": {},
   "source": [
    "### Задание 13.04\n",
    "Создать класс Book. Атрибуты: количество страниц, год издания, автор, цена. \n",
    "Добавить валидацию в конструкторе на ввод корректных данных. Создать\n",
    "иерархию ошибок."
   ]
  },
  {
   "cell_type": "code",
   "execution_count": null,
   "metadata": {},
   "outputs": [],
   "source": [
    "class CountPagesException(Exception):\n",
    "    def __init__(self, message=...):\n",
    "        super().__init__(message)"
   ]
  },
  {
   "cell_type": "code",
   "execution_count": null,
   "metadata": {},
   "outputs": [],
   "source": [
    "class YearException(Exception):\n",
    "    def __init__(self, message=...):\n",
    "        super().__init__(message)"
   ]
  },
  {
   "cell_type": "code",
   "execution_count": null,
   "metadata": {},
   "outputs": [],
   "source": [
    "class AuthorException(Exception):\n",
    "    def __init__(self, message=...):\n",
    "        super().__init__(message)"
   ]
  },
  {
   "cell_type": "code",
   "execution_count": null,
   "metadata": {},
   "outputs": [],
   "source": [
    "class PriceException(Exception):\n",
    "    def __init__(self, message=...):\n",
    "        super().__init__(message)"
   ]
  },
  {
   "cell_type": "code",
   "execution_count": null,
   "metadata": {},
   "outputs": [],
   "source": [
    "class Book:\n",
    "    count_pages: int\n",
    "    year: int\n",
    "    author: str\n",
    "    price: int\n",
    "        \n",
    "    \n",
    "    def __init__(self, count_pages: int, year: int, author: str, price: int):\n",
    "        ### validate data\n",
    "        self.count_pages = count_pages\n",
    "        self.year = year\n",
    "        self.author = author\n",
    "        self.price = price"
   ]
  },
  {
   "cell_type": "markdown",
   "metadata": {},
   "source": [
    "### Абстрактный класс\n",
    "\n",
    "Абстрактный класс - класс, экземпляр которого нельзя создать."
   ]
  },
  {
   "cell_type": "code",
   "execution_count": null,
   "metadata": {},
   "outputs": [],
   "source": [
    "from abc import ABC, abstractmethod\n",
    "\n",
    "class A(ABC):\n",
    "    @abstractmethod\n",
    "    def do_smth(self):\n",
    "        print('I am a parent' )\n",
    "\n",
    "\n",
    "class B(A):\n",
    "    def do_smth(self):\n",
    "        print('I am a child' )"
   ]
  },
  {
   "cell_type": "code",
   "execution_count": null,
   "metadata": {},
   "outputs": [],
   "source": [
    "a = A() # ERROR"
   ]
  },
  {
   "cell_type": "code",
   "execution_count": null,
   "metadata": {},
   "outputs": [],
   "source": [
    "b = B()"
   ]
  },
  {
   "cell_type": "markdown",
   "metadata": {},
   "source": [
    "### Задание 13.05\n",
    "\n",
    "Сделать класс Pet абстрактным"
   ]
  },
  {
   "cell_type": "code",
   "execution_count": 29,
   "metadata": {},
   "outputs": [],
   "source": [
    "from abc import ABC, abstractmethod"
   ]
  },
  {
   "cell_type": "code",
   "execution_count": null,
   "metadata": {},
   "outputs": [],
   "source": [
    "class Pet:\n",
    "    VOICE = None\n",
    "    \n",
    "    @classmethod\n",
    "    def voice(cls):\n",
    "        print(cls.VOICE)\n",
    "        \n",
    "\n",
    "\n",
    "class Cat(Pet):\n",
    "    VOICE = \"Meow\""
   ]
  },
  {
   "cell_type": "code",
   "execution_count": null,
   "metadata": {},
   "outputs": [],
   "source": [
    "pet = Pet() # ERROR"
   ]
  },
  {
   "cell_type": "markdown",
   "metadata": {},
   "source": [
    "### Интерфейсы\n",
    "\n",
    "Интерфейсы - класс, определяющий методы и их сигнатуру, который **Должны** быть переопределены в дочерних классах. Интерфейс - договор"
   ]
  },
  {
   "cell_type": "code",
   "execution_count": null,
   "metadata": {},
   "outputs": [],
   "source": [
    "class MyInterface(ABC):\n",
    "    @abstractmethod\n",
    "    def do_a(self, arg1):\n",
    "        raise NotImplemented\n",
    "\n",
    "    @abstractmethod\n",
    "    def do_b(self, arg1, arg2):\n",
    "        raise NotImplemented"
   ]
  },
  {
   "cell_type": "code",
   "execution_count": null,
   "metadata": {},
   "outputs": [],
   "source": [
    "class MyClass(MyInterface):\n",
    "    def do_a(self, arg1):\n",
    "        print(arg1)\n",
    "    \n",
    "    def do_b(self, arg1, arg2):\n",
    "        print(arg1, arg2)"
   ]
  },
  {
   "cell_type": "markdown",
   "metadata": {},
   "source": [
    "### Задание 13.06\n",
    "\n",
    "Реализовать следующую структуру:\n",
    "<img src=\"l13_1.png\"/>"
   ]
  },
  {
   "cell_type": "code",
   "execution_count": null,
   "metadata": {},
   "outputs": [],
   "source": []
  },
  {
   "cell_type": "code",
   "execution_count": null,
   "metadata": {},
   "outputs": [],
   "source": []
  },
  {
   "cell_type": "markdown",
   "metadata": {},
   "source": [
    "### Mixins\n",
    "\n",
    "Миксины инкапсулируют поведение которое может быть использовано в классах."
   ]
  },
  {
   "cell_type": "code",
   "execution_count": 31,
   "metadata": {},
   "outputs": [],
   "source": [
    "class MyMixin:\n",
    "    def do_a(self):\n",
    "        print(self.a)\n",
    "    \n",
    "    def do_b(self, arg1, arg2):\n",
    "        print(self.b)\n",
    "\n",
    "\n",
    "class MyClass(MyMixin):\n",
    "    def __init__(self, a, b):\n",
    "        self.a = a\n",
    "        self.b = b"
   ]
  },
  {
   "cell_type": "code",
   "execution_count": null,
   "metadata": {},
   "outputs": [],
   "source": [
    "obj = MyClass()\n",
    "obj.do_a()\n",
    "obj.do_b()"
   ]
  },
  {
   "cell_type": "markdown",
   "metadata": {},
   "source": [
    "### Модули\n",
    "\n",
    "- Модуль - файл с расширением .py\n",
    "- Модули содержат классы, функции, константы"
   ]
  },
  {
   "cell_type": "markdown",
   "metadata": {},
   "source": [
    "### Импортирование модулей"
   ]
  },
  {
   "cell_type": "code",
   "execution_count": 34,
   "metadata": {},
   "outputs": [],
   "source": [
    "import datetime\n",
    "from datetime import datetime as da"
   ]
  },
  {
   "cell_type": "markdown",
   "metadata": {},
   "source": [
    "### Пакеты\n",
    "\n",
    "Пакет - католог, в котором находятся другие каталоги и/или модули и содержащий файл __init__.py."
   ]
  },
  {
   "cell_type": "markdown",
   "metadata": {},
   "source": [
    "### Задание\n",
    "Создать пакет следующей структуры:\n",
    "\n",
    "```\n",
    "src/\n",
    "    matrix_utils/\n",
    "        matrix_classes.py\n",
    "        matrix_funcs.py\n",
    "    main.py\n",
    "```"
   ]
  },
  {
   "cell_type": "markdown",
   "metadata": {},
   "source": [
    "### Задание 13.07 (ДЗ)\n",
    "\n",
    "- Создать класс Matrix. \n",
    "- Атрибуты - data(содержит саму матрицу - список списков), n, m. \n",
    "- Определить конструктор(с параметрами(передача размерности: n, m и диапазона случайных чисел: a, b), по-умолчанию (матрица 5 на 5 где все элементы равны нулю), копирования) , \n",
    "- переопределить магический метод __str__ для красивого вывода. \n",
    "- Описать функции, которые принимают на вход объект класса Matrix. Функции позволяют искать максимальный элемент матрицы, минимальный, сумму всех элементов. \n",
    "- Создать в файле main.py матрицу. Воспользоваться всеми описанными функциями и методами"
   ]
  },
  {
   "cell_type": "code",
   "execution_count": null,
   "metadata": {},
   "outputs": [],
   "source": [
    "# matrix_utils/matrix_classes.py\n",
    "\n",
    "class Matrix:\n",
    "    def __init__(self, n: int = 5, m: int = 5) -> None:\n",
    "        self.n = n\n",
    "        self.m = m\n",
    "        self._data: list[list] = None\n",
    "\n",
    "    @property\n",
    "    def data(self):\n",
    "        pass\n",
    "    \n",
    "    @data.setter\n",
    "    def data(self, data):\n",
    "        self._data = data\n",
    "        \n",
    "    def gen_default_matrix(self) -> None:\n",
    "        \"\"\"Сгенерировать матрицу по умолчанию (нулевую)\"\"\"\n",
    "        self._data = [[0 for _ in range(self.n)] for _ in range(self.m)]\n",
    "\n",
    "    def __str__(self) -> str:\n",
    "        pass"
   ]
  },
  {
   "cell_type": "code",
   "execution_count": null,
   "metadata": {},
   "outputs": [],
   "source": [
    "# matrix_utils/matrix_funcs.py\n",
    "\n",
    "def find_max_matrix_element(matrix: Matrix) -> int or float:\n",
    "    pass\n",
    "\n",
    "\n",
    "def find_min_matrix_element(matrix: Matrix) -> int or float:\n",
    "    pass\n",
    "\n",
    "\n",
    "def find_sum_matrix_elements(matrix: Matrix) -> int or float:\n",
    "    pass"
   ]
  },
  {
   "cell_type": "code",
   "execution_count": null,
   "metadata": {},
   "outputs": [],
   "source": [
    "# main.py\n",
    "\n",
    "from matrix_utils import matrix_classes\n",
    "from matrix_utils import matrix_funcs\n",
    "\n",
    "\n",
    "if __name__ == \"__main__\":\n",
    "    matrix = Matrix(3, 4)\n",
    "    matrix.data = ...  # задать матрицу (любую для теста)\n",
    "    print(matrix_funcs.find_max_matrix_element(matrix))\n",
    "    print(matrix_funcs.find_min_matrix_element(matrix))\n",
    "    print(matrix_funcs.find_sum_matrix_elements(matrix))"
   ]
  }
 ],
 "metadata": {
  "kernelspec": {
   "display_name": "Python 3",
   "language": "python",
   "name": "python3"
  },
  "language_info": {
   "codemirror_mode": {
    "name": "ipython",
    "version": 3
   },
   "file_extension": ".py",
   "mimetype": "text/x-python",
   "name": "python",
   "nbconvert_exporter": "python",
   "pygments_lexer": "ipython3",
   "version": "3.8.3"
  }
 },
 "nbformat": 4,
 "nbformat_minor": 4
}
